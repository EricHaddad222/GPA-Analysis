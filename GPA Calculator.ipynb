{
 "cells": [
  {
   "cell_type": "markdown",
   "id": "ef488e85-a669-43b4-9672-b8e7cd0c8ff1",
   "metadata": {},
   "source": [
    "Eric Haddad\n",
    "10/03/2024"
   ]
  },
  {
   "cell_type": "markdown",
   "id": "1aa29c39-25fb-4252-8343-f01eb8a26f11",
   "metadata": {},
   "source": [
    "# Creating GPA database"
   ]
  },
  {
   "cell_type": "code",
   "execution_count": 1,
   "id": "3b56255e-7908-486d-929d-e035db0eafb0",
   "metadata": {},
   "outputs": [],
   "source": [
    "import pandas as pd\n",
    "import numpy as np\n",
    "# Remove all unwanted warnings\n",
    "import warnings\n",
    "warnings.filterwarnings('ignore')"
   ]
  },
  {
   "cell_type": "code",
   "execution_count": 2,
   "id": "83786025-9578-4d6f-8763-c37fc2838aa4",
   "metadata": {},
   "outputs": [],
   "source": [
    "data = {'Course': ['PHYS 205', 'MATH 205', 'MATH 204', 'ENGR 201', 'ECON 201', 'ENGR 233', 'ENGR 213',\n",
    "                  'COEN 243', 'COEN 212', 'ENGR 301', 'ENCS 282', 'ELEC 273', 'COEN 231', 'ENGR 371',\n",
    "                  'ENGR 251', 'ENGR 242', 'MIAE 221', 'MIAE 211', 'INDU 211', 'ENGR 311'],\n",
    "       'Letter Grade': ['A+','A','A+','B-','A-','C+','B','B+','C','C+','A-','D-','C','A-','B-','D','A','A+','A','A+'],\n",
    "       'Year': [2021, 2021, 2021, 2021, 2021, 2022, 2022, 2022, 2022, 2022, 2022, 2022, 2022, 2023, 2023, 2023, 2023, 2023, 2023, 2023],\n",
    "       'Semester': ['Fall', 'Fall', 'Fall', 'Fall', 'Fall', 'Winter', 'Winter', 'Winter', 'Winter', 'Summer', 'Fall', 'Fall', 'Fall', \n",
    "                    'Winter', 'Winter', 'Winter', 'Fall', 'Fall', 'Fall', 'Fall']}"
   ]
  },
  {
   "cell_type": "code",
   "execution_count": 3,
   "id": "fd985f04-f12a-439c-906f-76f463732591",
   "metadata": {},
   "outputs": [],
   "source": [
    "df = pd.DataFrame(data)"
   ]
  },
  {
   "cell_type": "code",
   "execution_count": 4,
   "id": "bdd764d6-7e6c-454f-b03f-78f2926e4da2",
   "metadata": {},
   "outputs": [],
   "source": [
    "# Add a GPA column into the data\n",
    "def grade_to_gpa(letter_grade):\n",
    "        if letter_grade == 'A+':\n",
    "            return 4.3\n",
    "        elif letter_grade == 'A':\n",
    "            return 4.0\n",
    "        elif letter_grade == 'A-':\n",
    "            return 3.7\n",
    "        elif letter_grade == 'B+':\n",
    "            return 3.3\n",
    "        elif letter_grade == 'B':\n",
    "            return 3.0\n",
    "        elif letter_grade == 'B-':\n",
    "            return 2.7\n",
    "        elif letter_grade == 'C+':\n",
    "            return 2.3\n",
    "        elif letter_grade == 'C':\n",
    "            return 2.0\n",
    "        elif letter_grade == 'C-':\n",
    "            return 1.7\n",
    "        elif letter_grade == 'D+':\n",
    "            return 1.3\n",
    "        elif letter_grade == 'D':\n",
    "            return 1.0\n",
    "        elif letter_grade == 'D-':\n",
    "            return 0.7\n",
    "        elif letter_grade == 'F':\n",
    "            return 0\n",
    "        else:\n",
    "            return None"
   ]
  },
  {
   "cell_type": "code",
   "execution_count": 5,
   "id": "30091393-063d-43a2-a6c1-b547a9fc9912",
   "metadata": {},
   "outputs": [],
   "source": [
    "semester_order = ['Winter', 'Summer', 'Fall']"
   ]
  },
  {
   "cell_type": "code",
   "execution_count": 6,
   "id": "2c6759ae-9a38-4f9d-9f01-67028f406935",
   "metadata": {},
   "outputs": [
    {
     "data": {
      "text/html": [
       "<div>\n",
       "<style scoped>\n",
       "    .dataframe tbody tr th:only-of-type {\n",
       "        vertical-align: middle;\n",
       "    }\n",
       "\n",
       "    .dataframe tbody tr th {\n",
       "        vertical-align: top;\n",
       "    }\n",
       "\n",
       "    .dataframe thead th {\n",
       "        text-align: right;\n",
       "    }\n",
       "</style>\n",
       "<table border=\"1\" class=\"dataframe\">\n",
       "  <thead>\n",
       "    <tr style=\"text-align: right;\">\n",
       "      <th></th>\n",
       "      <th>Course</th>\n",
       "      <th>Letter Grade</th>\n",
       "      <th>Year</th>\n",
       "      <th>Semester</th>\n",
       "      <th>GPA</th>\n",
       "    </tr>\n",
       "  </thead>\n",
       "  <tbody>\n",
       "    <tr>\n",
       "      <th>0</th>\n",
       "      <td>PHYS 205</td>\n",
       "      <td>A+</td>\n",
       "      <td>2021</td>\n",
       "      <td>Fall</td>\n",
       "      <td>4.3</td>\n",
       "    </tr>\n",
       "    <tr>\n",
       "      <th>1</th>\n",
       "      <td>MATH 205</td>\n",
       "      <td>A</td>\n",
       "      <td>2021</td>\n",
       "      <td>Fall</td>\n",
       "      <td>4.0</td>\n",
       "    </tr>\n",
       "    <tr>\n",
       "      <th>2</th>\n",
       "      <td>MATH 204</td>\n",
       "      <td>A+</td>\n",
       "      <td>2021</td>\n",
       "      <td>Fall</td>\n",
       "      <td>4.3</td>\n",
       "    </tr>\n",
       "    <tr>\n",
       "      <th>3</th>\n",
       "      <td>ENGR 201</td>\n",
       "      <td>B-</td>\n",
       "      <td>2021</td>\n",
       "      <td>Fall</td>\n",
       "      <td>2.7</td>\n",
       "    </tr>\n",
       "    <tr>\n",
       "      <th>4</th>\n",
       "      <td>ECON 201</td>\n",
       "      <td>A-</td>\n",
       "      <td>2021</td>\n",
       "      <td>Fall</td>\n",
       "      <td>3.7</td>\n",
       "    </tr>\n",
       "    <tr>\n",
       "      <th>5</th>\n",
       "      <td>ENGR 233</td>\n",
       "      <td>C+</td>\n",
       "      <td>2022</td>\n",
       "      <td>Winter</td>\n",
       "      <td>2.3</td>\n",
       "    </tr>\n",
       "    <tr>\n",
       "      <th>6</th>\n",
       "      <td>ENGR 213</td>\n",
       "      <td>B</td>\n",
       "      <td>2022</td>\n",
       "      <td>Winter</td>\n",
       "      <td>3.0</td>\n",
       "    </tr>\n",
       "    <tr>\n",
       "      <th>7</th>\n",
       "      <td>COEN 243</td>\n",
       "      <td>B+</td>\n",
       "      <td>2022</td>\n",
       "      <td>Winter</td>\n",
       "      <td>3.3</td>\n",
       "    </tr>\n",
       "    <tr>\n",
       "      <th>8</th>\n",
       "      <td>COEN 212</td>\n",
       "      <td>C</td>\n",
       "      <td>2022</td>\n",
       "      <td>Winter</td>\n",
       "      <td>2.0</td>\n",
       "    </tr>\n",
       "    <tr>\n",
       "      <th>9</th>\n",
       "      <td>ENGR 301</td>\n",
       "      <td>C+</td>\n",
       "      <td>2022</td>\n",
       "      <td>Summer</td>\n",
       "      <td>2.3</td>\n",
       "    </tr>\n",
       "    <tr>\n",
       "      <th>10</th>\n",
       "      <td>ENCS 282</td>\n",
       "      <td>A-</td>\n",
       "      <td>2022</td>\n",
       "      <td>Fall</td>\n",
       "      <td>3.7</td>\n",
       "    </tr>\n",
       "    <tr>\n",
       "      <th>11</th>\n",
       "      <td>ELEC 273</td>\n",
       "      <td>D-</td>\n",
       "      <td>2022</td>\n",
       "      <td>Fall</td>\n",
       "      <td>0.7</td>\n",
       "    </tr>\n",
       "    <tr>\n",
       "      <th>12</th>\n",
       "      <td>COEN 231</td>\n",
       "      <td>C</td>\n",
       "      <td>2022</td>\n",
       "      <td>Fall</td>\n",
       "      <td>2.0</td>\n",
       "    </tr>\n",
       "    <tr>\n",
       "      <th>13</th>\n",
       "      <td>ENGR 371</td>\n",
       "      <td>A-</td>\n",
       "      <td>2023</td>\n",
       "      <td>Winter</td>\n",
       "      <td>3.7</td>\n",
       "    </tr>\n",
       "    <tr>\n",
       "      <th>14</th>\n",
       "      <td>ENGR 251</td>\n",
       "      <td>B-</td>\n",
       "      <td>2023</td>\n",
       "      <td>Winter</td>\n",
       "      <td>2.7</td>\n",
       "    </tr>\n",
       "    <tr>\n",
       "      <th>15</th>\n",
       "      <td>ENGR 242</td>\n",
       "      <td>D</td>\n",
       "      <td>2023</td>\n",
       "      <td>Winter</td>\n",
       "      <td>1.0</td>\n",
       "    </tr>\n",
       "    <tr>\n",
       "      <th>16</th>\n",
       "      <td>MIAE 221</td>\n",
       "      <td>A</td>\n",
       "      <td>2023</td>\n",
       "      <td>Fall</td>\n",
       "      <td>4.0</td>\n",
       "    </tr>\n",
       "    <tr>\n",
       "      <th>17</th>\n",
       "      <td>MIAE 211</td>\n",
       "      <td>A+</td>\n",
       "      <td>2023</td>\n",
       "      <td>Fall</td>\n",
       "      <td>4.3</td>\n",
       "    </tr>\n",
       "    <tr>\n",
       "      <th>18</th>\n",
       "      <td>INDU 211</td>\n",
       "      <td>A</td>\n",
       "      <td>2023</td>\n",
       "      <td>Fall</td>\n",
       "      <td>4.0</td>\n",
       "    </tr>\n",
       "    <tr>\n",
       "      <th>19</th>\n",
       "      <td>ENGR 311</td>\n",
       "      <td>A+</td>\n",
       "      <td>2023</td>\n",
       "      <td>Fall</td>\n",
       "      <td>4.3</td>\n",
       "    </tr>\n",
       "  </tbody>\n",
       "</table>\n",
       "</div>"
      ],
      "text/plain": [
       "      Course Letter Grade  Year Semester  GPA\n",
       "0   PHYS 205           A+  2021     Fall  4.3\n",
       "1   MATH 205            A  2021     Fall  4.0\n",
       "2   MATH 204           A+  2021     Fall  4.3\n",
       "3   ENGR 201           B-  2021     Fall  2.7\n",
       "4   ECON 201           A-  2021     Fall  3.7\n",
       "5   ENGR 233           C+  2022   Winter  2.3\n",
       "6   ENGR 213            B  2022   Winter  3.0\n",
       "7   COEN 243           B+  2022   Winter  3.3\n",
       "8   COEN 212            C  2022   Winter  2.0\n",
       "9   ENGR 301           C+  2022   Summer  2.3\n",
       "10  ENCS 282           A-  2022     Fall  3.7\n",
       "11  ELEC 273           D-  2022     Fall  0.7\n",
       "12  COEN 231            C  2022     Fall  2.0\n",
       "13  ENGR 371           A-  2023   Winter  3.7\n",
       "14  ENGR 251           B-  2023   Winter  2.7\n",
       "15  ENGR 242            D  2023   Winter  1.0\n",
       "16  MIAE 221            A  2023     Fall  4.0\n",
       "17  MIAE 211           A+  2023     Fall  4.3\n",
       "18  INDU 211            A  2023     Fall  4.0\n",
       "19  ENGR 311           A+  2023     Fall  4.3"
      ]
     },
     "execution_count": 6,
     "metadata": {},
     "output_type": "execute_result"
    }
   ],
   "source": [
    "# Applying the function to create the GPA column\n",
    "df['GPA'] = df['Letter Grade'].apply(grade_to_gpa)\n",
    "df"
   ]
  },
  {
   "cell_type": "code",
   "execution_count": 7,
   "id": "8156e303-a957-4058-859b-08059a121b13",
   "metadata": {},
   "outputs": [
    {
     "name": "stdout",
     "output_type": "stream",
     "text": [
      "CGPA as of Winter 2024 is: 3.12\n"
     ]
    }
   ],
   "source": [
    "# Get my Cumulative GPA\n",
    "CGPA = df['GPA'].mean()\n",
    "print(\"CGPA as of Winter 2024 is:\", round(CGPA, 2))"
   ]
  },
  {
   "cell_type": "code",
   "execution_count": 8,
   "id": "4d9e85c7-6fd8-4884-91f0-25590a5d40d6",
   "metadata": {},
   "outputs": [
    {
     "data": {
      "text/html": [
       "<div>\n",
       "<style scoped>\n",
       "    .dataframe tbody tr th:only-of-type {\n",
       "        vertical-align: middle;\n",
       "    }\n",
       "\n",
       "    .dataframe tbody tr th {\n",
       "        vertical-align: top;\n",
       "    }\n",
       "\n",
       "    .dataframe thead th {\n",
       "        text-align: right;\n",
       "    }\n",
       "</style>\n",
       "<table border=\"1\" class=\"dataframe\">\n",
       "  <thead>\n",
       "    <tr style=\"text-align: right;\">\n",
       "      <th></th>\n",
       "      <th>Course</th>\n",
       "      <th>Letter Grade</th>\n",
       "      <th>Year</th>\n",
       "      <th>Semester</th>\n",
       "      <th>GPA</th>\n",
       "    </tr>\n",
       "  </thead>\n",
       "  <tbody>\n",
       "    <tr>\n",
       "      <th>0</th>\n",
       "      <td>PHYS 205</td>\n",
       "      <td>A+</td>\n",
       "      <td>2021</td>\n",
       "      <td>Fall</td>\n",
       "      <td>4.3</td>\n",
       "    </tr>\n",
       "    <tr>\n",
       "      <th>1</th>\n",
       "      <td>MATH 205</td>\n",
       "      <td>A</td>\n",
       "      <td>2021</td>\n",
       "      <td>Fall</td>\n",
       "      <td>4.0</td>\n",
       "    </tr>\n",
       "    <tr>\n",
       "      <th>2</th>\n",
       "      <td>MATH 204</td>\n",
       "      <td>A+</td>\n",
       "      <td>2021</td>\n",
       "      <td>Fall</td>\n",
       "      <td>4.3</td>\n",
       "    </tr>\n",
       "    <tr>\n",
       "      <th>3</th>\n",
       "      <td>ENGR 201</td>\n",
       "      <td>B-</td>\n",
       "      <td>2021</td>\n",
       "      <td>Fall</td>\n",
       "      <td>2.7</td>\n",
       "    </tr>\n",
       "    <tr>\n",
       "      <th>4</th>\n",
       "      <td>ECON 201</td>\n",
       "      <td>A-</td>\n",
       "      <td>2021</td>\n",
       "      <td>Fall</td>\n",
       "      <td>3.7</td>\n",
       "    </tr>\n",
       "    <tr>\n",
       "      <th>5</th>\n",
       "      <td>ENGR 233</td>\n",
       "      <td>C+</td>\n",
       "      <td>2022</td>\n",
       "      <td>Winter</td>\n",
       "      <td>2.3</td>\n",
       "    </tr>\n",
       "    <tr>\n",
       "      <th>6</th>\n",
       "      <td>ENGR 213</td>\n",
       "      <td>B</td>\n",
       "      <td>2022</td>\n",
       "      <td>Winter</td>\n",
       "      <td>3.0</td>\n",
       "    </tr>\n",
       "    <tr>\n",
       "      <th>7</th>\n",
       "      <td>COEN 243</td>\n",
       "      <td>B+</td>\n",
       "      <td>2022</td>\n",
       "      <td>Winter</td>\n",
       "      <td>3.3</td>\n",
       "    </tr>\n",
       "    <tr>\n",
       "      <th>8</th>\n",
       "      <td>COEN 212</td>\n",
       "      <td>C</td>\n",
       "      <td>2022</td>\n",
       "      <td>Winter</td>\n",
       "      <td>2.0</td>\n",
       "    </tr>\n",
       "    <tr>\n",
       "      <th>9</th>\n",
       "      <td>ENGR 301</td>\n",
       "      <td>C+</td>\n",
       "      <td>2022</td>\n",
       "      <td>Summer</td>\n",
       "      <td>2.3</td>\n",
       "    </tr>\n",
       "    <tr>\n",
       "      <th>10</th>\n",
       "      <td>ENCS 282</td>\n",
       "      <td>A-</td>\n",
       "      <td>2022</td>\n",
       "      <td>Fall</td>\n",
       "      <td>3.7</td>\n",
       "    </tr>\n",
       "    <tr>\n",
       "      <th>11</th>\n",
       "      <td>ELEC 273</td>\n",
       "      <td>D-</td>\n",
       "      <td>2022</td>\n",
       "      <td>Fall</td>\n",
       "      <td>0.7</td>\n",
       "    </tr>\n",
       "    <tr>\n",
       "      <th>12</th>\n",
       "      <td>COEN 231</td>\n",
       "      <td>C</td>\n",
       "      <td>2022</td>\n",
       "      <td>Fall</td>\n",
       "      <td>2.0</td>\n",
       "    </tr>\n",
       "    <tr>\n",
       "      <th>13</th>\n",
       "      <td>ENGR 371</td>\n",
       "      <td>A-</td>\n",
       "      <td>2023</td>\n",
       "      <td>Winter</td>\n",
       "      <td>3.7</td>\n",
       "    </tr>\n",
       "    <tr>\n",
       "      <th>14</th>\n",
       "      <td>ENGR 251</td>\n",
       "      <td>B-</td>\n",
       "      <td>2023</td>\n",
       "      <td>Winter</td>\n",
       "      <td>2.7</td>\n",
       "    </tr>\n",
       "    <tr>\n",
       "      <th>15</th>\n",
       "      <td>ENGR 242</td>\n",
       "      <td>D</td>\n",
       "      <td>2023</td>\n",
       "      <td>Winter</td>\n",
       "      <td>1.0</td>\n",
       "    </tr>\n",
       "    <tr>\n",
       "      <th>16</th>\n",
       "      <td>MIAE 221</td>\n",
       "      <td>A</td>\n",
       "      <td>2023</td>\n",
       "      <td>Fall</td>\n",
       "      <td>4.0</td>\n",
       "    </tr>\n",
       "    <tr>\n",
       "      <th>17</th>\n",
       "      <td>MIAE 211</td>\n",
       "      <td>A+</td>\n",
       "      <td>2023</td>\n",
       "      <td>Fall</td>\n",
       "      <td>4.3</td>\n",
       "    </tr>\n",
       "    <tr>\n",
       "      <th>18</th>\n",
       "      <td>INDU 211</td>\n",
       "      <td>A</td>\n",
       "      <td>2023</td>\n",
       "      <td>Fall</td>\n",
       "      <td>4.0</td>\n",
       "    </tr>\n",
       "    <tr>\n",
       "      <th>19</th>\n",
       "      <td>ENGR 311</td>\n",
       "      <td>A+</td>\n",
       "      <td>2023</td>\n",
       "      <td>Fall</td>\n",
       "      <td>4.3</td>\n",
       "    </tr>\n",
       "    <tr>\n",
       "      <th>20</th>\n",
       "      <td>MIAE 313</td>\n",
       "      <td>A+</td>\n",
       "      <td>2024</td>\n",
       "      <td>Winter</td>\n",
       "      <td>4.3</td>\n",
       "    </tr>\n",
       "    <tr>\n",
       "      <th>21</th>\n",
       "      <td>INDU 323</td>\n",
       "      <td>A+</td>\n",
       "      <td>2024</td>\n",
       "      <td>Winter</td>\n",
       "      <td>4.3</td>\n",
       "    </tr>\n",
       "    <tr>\n",
       "      <th>22</th>\n",
       "      <td>ENGR 245</td>\n",
       "      <td>A+</td>\n",
       "      <td>2024</td>\n",
       "      <td>Winter</td>\n",
       "      <td>4.3</td>\n",
       "    </tr>\n",
       "    <tr>\n",
       "      <th>23</th>\n",
       "      <td>ACCO 220</td>\n",
       "      <td>A+</td>\n",
       "      <td>2024</td>\n",
       "      <td>Winter</td>\n",
       "      <td>4.3</td>\n",
       "    </tr>\n",
       "  </tbody>\n",
       "</table>\n",
       "</div>"
      ],
      "text/plain": [
       "      Course Letter Grade  Year Semester  GPA\n",
       "0   PHYS 205           A+  2021     Fall  4.3\n",
       "1   MATH 205            A  2021     Fall  4.0\n",
       "2   MATH 204           A+  2021     Fall  4.3\n",
       "3   ENGR 201           B-  2021     Fall  2.7\n",
       "4   ECON 201           A-  2021     Fall  3.7\n",
       "5   ENGR 233           C+  2022   Winter  2.3\n",
       "6   ENGR 213            B  2022   Winter  3.0\n",
       "7   COEN 243           B+  2022   Winter  3.3\n",
       "8   COEN 212            C  2022   Winter  2.0\n",
       "9   ENGR 301           C+  2022   Summer  2.3\n",
       "10  ENCS 282           A-  2022     Fall  3.7\n",
       "11  ELEC 273           D-  2022     Fall  0.7\n",
       "12  COEN 231            C  2022     Fall  2.0\n",
       "13  ENGR 371           A-  2023   Winter  3.7\n",
       "14  ENGR 251           B-  2023   Winter  2.7\n",
       "15  ENGR 242            D  2023   Winter  1.0\n",
       "16  MIAE 221            A  2023     Fall  4.0\n",
       "17  MIAE 211           A+  2023     Fall  4.3\n",
       "18  INDU 211            A  2023     Fall  4.0\n",
       "19  ENGR 311           A+  2023     Fall  4.3\n",
       "20  MIAE 313           A+  2024   Winter  4.3\n",
       "21  INDU 323           A+  2024   Winter  4.3\n",
       "22  ENGR 245           A+  2024   Winter  4.3\n",
       "23  ACCO 220           A+  2024   Winter  4.3"
      ]
     },
     "execution_count": 8,
     "metadata": {},
     "output_type": "execute_result"
    }
   ],
   "source": [
    "# Add courses\n",
    "winter2024_courses = {'Course': ['MIAE 313', 'INDU 323', 'ENGR 245', 'ACCO 220'], \n",
    "                      'Letter Grade': ['A+', 'A+', 'A+', 'A+'],\n",
    "                     'Year': [2024, 2024, 2024, 2024],\n",
    "                     'Semester': ['Winter', 'Winter', 'Winter', 'Winter']}\n",
    "\n",
    "new_df = pd.DataFrame(winter2024_courses)\n",
    "new_df['GPA'] = new_df['Letter Grade'].apply(grade_to_gpa)\n",
    "\n",
    "# Add new courses to the data frame using concat\n",
    "df = pd.concat([df, new_df], ignore_index = True)\n",
    "df"
   ]
  },
  {
   "cell_type": "code",
   "execution_count": 9,
   "id": "b2380778-6279-43e9-a76a-40e124859f57",
   "metadata": {},
   "outputs": [
    {
     "name": "stdout",
     "output_type": "stream",
     "text": [
      "CGPA after Winter 2024 is: 3.31\n"
     ]
    }
   ],
   "source": [
    "# Getting new CGPA after winter 2024 \n",
    "new_cgpa = df['GPA'].mean()\n",
    "print(\"CGPA after Winter 2024 is:\", round(new_cgpa, 2))"
   ]
  },
  {
   "cell_type": "code",
   "execution_count": 10,
   "id": "93602d11-f429-42ee-843f-c1a89f4e0204",
   "metadata": {},
   "outputs": [
    {
     "name": "stdout",
     "output_type": "stream",
     "text": [
      "Annual GPA for year 2023-2024 is: 4.22\n"
     ]
    }
   ],
   "source": [
    "# Getting annual GPA for year 2023-2024\n",
    "year2023_2024 = df['GPA'].tail(8)\n",
    "print(\"Annual GPA for year 2023-2024 is:\", round(year2023_2024.mean(), 2))"
   ]
  },
  {
   "cell_type": "code",
   "execution_count": 11,
   "id": "37508305-3530-41a5-892b-0d4b1e80b848",
   "metadata": {},
   "outputs": [
    {
     "data": {
      "text/html": [
       "<div>\n",
       "<style scoped>\n",
       "    .dataframe tbody tr th:only-of-type {\n",
       "        vertical-align: middle;\n",
       "    }\n",
       "\n",
       "    .dataframe tbody tr th {\n",
       "        vertical-align: top;\n",
       "    }\n",
       "\n",
       "    .dataframe thead th {\n",
       "        text-align: right;\n",
       "    }\n",
       "</style>\n",
       "<table border=\"1\" class=\"dataframe\">\n",
       "  <thead>\n",
       "    <tr style=\"text-align: right;\">\n",
       "      <th></th>\n",
       "      <th>Year</th>\n",
       "      <th>Semester</th>\n",
       "      <th>GPA</th>\n",
       "    </tr>\n",
       "  </thead>\n",
       "  <tbody>\n",
       "    <tr>\n",
       "      <th>2</th>\n",
       "      <td>2021</td>\n",
       "      <td>Fall</td>\n",
       "      <td>3.80</td>\n",
       "    </tr>\n",
       "    <tr>\n",
       "      <th>3</th>\n",
       "      <td>2022</td>\n",
       "      <td>Winter</td>\n",
       "      <td>2.65</td>\n",
       "    </tr>\n",
       "    <tr>\n",
       "      <th>4</th>\n",
       "      <td>2022</td>\n",
       "      <td>Summer</td>\n",
       "      <td>2.30</td>\n",
       "    </tr>\n",
       "    <tr>\n",
       "      <th>5</th>\n",
       "      <td>2022</td>\n",
       "      <td>Fall</td>\n",
       "      <td>2.13</td>\n",
       "    </tr>\n",
       "    <tr>\n",
       "      <th>6</th>\n",
       "      <td>2023</td>\n",
       "      <td>Winter</td>\n",
       "      <td>2.47</td>\n",
       "    </tr>\n",
       "    <tr>\n",
       "      <th>8</th>\n",
       "      <td>2023</td>\n",
       "      <td>Fall</td>\n",
       "      <td>4.15</td>\n",
       "    </tr>\n",
       "    <tr>\n",
       "      <th>9</th>\n",
       "      <td>2024</td>\n",
       "      <td>Winter</td>\n",
       "      <td>4.30</td>\n",
       "    </tr>\n",
       "  </tbody>\n",
       "</table>\n",
       "</div>"
      ],
      "text/plain": [
       "   Year Semester   GPA\n",
       "2  2021     Fall  3.80\n",
       "3  2022   Winter  2.65\n",
       "4  2022   Summer  2.30\n",
       "5  2022     Fall  2.13\n",
       "6  2023   Winter  2.47\n",
       "8  2023     Fall  4.15\n",
       "9  2024   Winter  4.30"
      ]
     },
     "execution_count": 11,
     "metadata": {},
     "output_type": "execute_result"
    }
   ],
   "source": [
    "# Sort DataFrame by custom order of semesters and year\n",
    "df['Semester'] = pd.Categorical(df['Semester'], categories = semester_order, ordered = True)\n",
    "df = df.sort_values(by = ['Year', 'Semester']) \n",
    "\n",
    "# Group courses by year and semester and calculate annual GPA\n",
    "semester_gpa = df.groupby(['Year', 'Semester'])['GPA'].mean()\n",
    "semester_gpa = round(semester_gpa, 2)\n",
    "\n",
    "# Convert the series to DataFrame\n",
    "semester_gpa_df = semester_gpa.reset_index()\n",
    "semester_gpa_df.columns = ['Year', 'Semester', 'GPA']\n",
    "\n",
    "# Remove null values\n",
    "semester_gpa_df.dropna(axis = 0, inplace = True)\n",
    "semester_gpa_df"
   ]
  },
  {
   "cell_type": "markdown",
   "id": "dc21b007-c9db-4cb3-943b-1724e4843088",
   "metadata": {},
   "source": [
    "# Getting Data using SQL"
   ]
  },
  {
   "cell_type": "code",
   "execution_count": 12,
   "id": "d9f6748f-8227-4d00-b87c-93e7bde0b9e0",
   "metadata": {},
   "outputs": [],
   "source": [
    "import sqlite3"
   ]
  },
  {
   "cell_type": "code",
   "execution_count": 13,
   "id": "f0ece3e7-78c7-477c-84d1-a13b7e7cece9",
   "metadata": {},
   "outputs": [],
   "source": [
    "collect = sqlite3.connect('grades.db')"
   ]
  },
  {
   "cell_type": "code",
   "execution_count": 14,
   "id": "b1422069-cf8d-436f-b63d-e73a77dc01d3",
   "metadata": {},
   "outputs": [
    {
     "data": {
      "text/plain": [
       "24"
      ]
     },
     "execution_count": 14,
     "metadata": {},
     "output_type": "execute_result"
    }
   ],
   "source": [
    "df.to_sql('grades', collect)"
   ]
  },
  {
   "cell_type": "code",
   "execution_count": 15,
   "id": "08295035-25f5-44c9-a6b5-f70623cd4f78",
   "metadata": {},
   "outputs": [],
   "source": [
    "%load_ext sql"
   ]
  },
  {
   "cell_type": "code",
   "execution_count": 16,
   "id": "aacad381-f9cd-4278-a784-23bd0cb4d02f",
   "metadata": {},
   "outputs": [],
   "source": [
    "%sql sqlite:///grades.db"
   ]
  },
  {
   "cell_type": "markdown",
   "id": "45e58f2b-c430-4270-a296-c72823bf7826",
   "metadata": {},
   "source": [
    "- Getting FALL 2023 GPA"
   ]
  },
  {
   "cell_type": "code",
   "execution_count": 17,
   "id": "02ea6e3d-eddd-4d85-8dab-5ef6a925dbed",
   "metadata": {},
   "outputs": [
    {
     "name": "stdout",
     "output_type": "stream",
     "text": [
      " * sqlite:///grades.db\n",
      "Done.\n"
     ]
    },
    {
     "data": {
      "text/html": [
       "<table>\n",
       "    <thead>\n",
       "        <tr>\n",
       "            <th>round(avg(gpa), 2)</th>\n",
       "        </tr>\n",
       "    </thead>\n",
       "    <tbody>\n",
       "        <tr>\n",
       "            <td>4.15</td>\n",
       "        </tr>\n",
       "    </tbody>\n",
       "</table>"
      ],
      "text/plain": [
       "[(4.15,)]"
      ]
     },
     "execution_count": 17,
     "metadata": {},
     "output_type": "execute_result"
    }
   ],
   "source": [
    "%%sql\n",
    "SELECT round(avg(gpa), 2)\n",
    "FROM grades\n",
    "WHERE semester = 'Fall' AND year = 2023 "
   ]
  },
  {
   "cell_type": "markdown",
   "id": "3af49419-6f7b-4f16-9c5c-0b30ac79a074",
   "metadata": {},
   "source": [
    "- Getting FALL 2023 and Winter 2024 GPA"
   ]
  },
  {
   "cell_type": "code",
   "execution_count": 18,
   "id": "6c387bbc-6e7c-402e-b576-3b0ed66ed6ce",
   "metadata": {},
   "outputs": [
    {
     "name": "stdout",
     "output_type": "stream",
     "text": [
      " * sqlite:///grades.db\n",
      "Done.\n"
     ]
    },
    {
     "data": {
      "text/html": [
       "<table>\n",
       "    <thead>\n",
       "        <tr>\n",
       "            <th>Year</th>\n",
       "            <th>annual_gpa</th>\n",
       "        </tr>\n",
       "    </thead>\n",
       "    <tbody>\n",
       "        <tr>\n",
       "            <td>2023</td>\n",
       "            <td>4.23</td>\n",
       "        </tr>\n",
       "    </tbody>\n",
       "</table>"
      ],
      "text/plain": [
       "[(2023, 4.23)]"
      ]
     },
     "execution_count": 18,
     "metadata": {},
     "output_type": "execute_result"
    }
   ],
   "source": [
    "%%sql\n",
    "SELECT year, round(AVG(gpa), 2) as annual_gpa\n",
    "FROM grades\n",
    "WHERE (year = 2023 AND semester = 'Fall') OR (year = 2024 AND semester = 'Winter')"
   ]
  },
  {
   "cell_type": "markdown",
   "id": "6aa1bf5a-52ad-4c75-8609-2adada2533b1",
   "metadata": {},
   "source": [
    "# Calculating percentage increase between Winter 2023 and Fall 2023"
   ]
  },
  {
   "cell_type": "code",
   "execution_count": 19,
   "id": "ea85d3b1-34b5-40ae-959f-bbe43686ced0",
   "metadata": {},
   "outputs": [
    {
     "name": "stdout",
     "output_type": "stream",
     "text": [
      " * sqlite:///grades.db\n",
      "Done.\n"
     ]
    },
    {
     "data": {
      "text/html": [
       "<table>\n",
       "    <thead>\n",
       "        <tr>\n",
       "            <th>Year</th>\n",
       "            <th>Winter</th>\n",
       "        </tr>\n",
       "    </thead>\n",
       "    <tbody>\n",
       "        <tr>\n",
       "            <td>2023</td>\n",
       "            <td>2.47</td>\n",
       "        </tr>\n",
       "    </tbody>\n",
       "</table>"
      ],
      "text/plain": [
       "[(2023, 2.47)]"
      ]
     },
     "execution_count": 19,
     "metadata": {},
     "output_type": "execute_result"
    }
   ],
   "source": [
    "%%sql\n",
    "SELECT year, round(AVG(gpa), 2) as Winter\n",
    "FROM grades\n",
    "WHERE year = 2023 AND semester = 'Winter'"
   ]
  },
  {
   "cell_type": "code",
   "execution_count": 20,
   "id": "27ef586c-c83e-42ca-b3db-2bfbab90d989",
   "metadata": {},
   "outputs": [],
   "source": [
    "winter_2023_gpa = 2.47"
   ]
  },
  {
   "cell_type": "code",
   "execution_count": 21,
   "id": "5d4c0d97-788d-435e-849f-c616705b6ec0",
   "metadata": {},
   "outputs": [
    {
     "name": "stdout",
     "output_type": "stream",
     "text": [
      " * sqlite:///grades.db\n",
      "Done.\n"
     ]
    },
    {
     "data": {
      "text/html": [
       "<table>\n",
       "    <thead>\n",
       "        <tr>\n",
       "            <th>Year</th>\n",
       "            <th>Fall</th>\n",
       "        </tr>\n",
       "    </thead>\n",
       "    <tbody>\n",
       "        <tr>\n",
       "            <td>2023</td>\n",
       "            <td>4.15</td>\n",
       "        </tr>\n",
       "    </tbody>\n",
       "</table>"
      ],
      "text/plain": [
       "[(2023, 4.15)]"
      ]
     },
     "execution_count": 21,
     "metadata": {},
     "output_type": "execute_result"
    }
   ],
   "source": [
    "%%sql\n",
    "SELECT year, round(AVG(gpa), 2) as Fall\n",
    "FROM grades\n",
    "WHERE year = 2023 AND semester = 'Fall'"
   ]
  },
  {
   "cell_type": "code",
   "execution_count": 22,
   "id": "d6012bab-4a38-4a29-b722-c1710292f322",
   "metadata": {},
   "outputs": [],
   "source": [
    "fall_2023_gpa = 4.15"
   ]
  },
  {
   "cell_type": "code",
   "execution_count": 23,
   "id": "89ddb5f3-75af-4655-b6fb-737606a5d28b",
   "metadata": {},
   "outputs": [
    {
     "name": "stdout",
     "output_type": "stream",
     "text": [
      "My performance between Winter 2023 and Fall 2023 has increased by: 68.02 %\n"
     ]
    }
   ],
   "source": [
    "# Finding increase in percentage\n",
    "percentage_increase_2023 = ((fall_2023_gpa - winter_2023_gpa)/winter_2023_gpa) * 100\n",
    "print(\"My performance between Winter 2023 and Fall 2023 has increased by:\", round(percentage_increase_2023, 2), \"%\")"
   ]
  },
  {
   "cell_type": "code",
   "execution_count": 24,
   "id": "c2229c08-631b-45da-8247-b67ef2dec4e9",
   "metadata": {},
   "outputs": [
    {
     "name": "stdout",
     "output_type": "stream",
     "text": [
      " * sqlite:///grades.db\n",
      "Done.\n"
     ]
    },
    {
     "data": {
      "text/html": [
       "<table>\n",
       "    <thead>\n",
       "        <tr>\n",
       "            <th>Year</th>\n",
       "            <th>round(AVG(gpa), 2)</th>\n",
       "        </tr>\n",
       "    </thead>\n",
       "    <tbody>\n",
       "        <tr>\n",
       "            <td>2023</td>\n",
       "            <td>3.43</td>\n",
       "        </tr>\n",
       "    </tbody>\n",
       "</table>"
      ],
      "text/plain": [
       "[(2023, 3.43)]"
      ]
     },
     "execution_count": 24,
     "metadata": {},
     "output_type": "execute_result"
    }
   ],
   "source": [
    "%%sql\n",
    "SELECT year, round(AVG(gpa), 2)\n",
    "FROM grades\n",
    "WHERE (year = 2023 AND semester = 'Winter') OR (year = 2023 AND semester = 'Fall')"
   ]
  }
 ],
 "metadata": {
  "kernelspec": {
   "display_name": "Python 3 (ipykernel)",
   "language": "python",
   "name": "python3"
  },
  "language_info": {
   "codemirror_mode": {
    "name": "ipython",
    "version": 3
   },
   "file_extension": ".py",
   "mimetype": "text/x-python",
   "name": "python",
   "nbconvert_exporter": "python",
   "pygments_lexer": "ipython3",
   "version": "3.11.6"
  }
 },
 "nbformat": 4,
 "nbformat_minor": 5
}
